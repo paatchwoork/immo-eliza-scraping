{
 "cells": [
  {
   "cell_type": "markdown",
   "metadata": {},
   "source": [
    "Import the necessary libraries"
   ]
  },
  {
   "cell_type": "code",
   "execution_count": null,
   "metadata": {},
   "outputs": [],
   "source": [
    "import pandas as pd\n",
    "import matplotlib.pyplot as plt\n",
    "import seaborn as sns"
   ]
  },
  {
   "cell_type": "markdown",
   "metadata": {},
   "source": [
    "Read and write CSV"
   ]
  },
  {
   "cell_type": "code",
   "execution_count": null,
   "metadata": {},
   "outputs": [],
   "source": [
    "df = pd.read_csv('property_data.csv')"
   ]
  },
  {
   "cell_type": "markdown",
   "metadata": {},
   "source": [
    "Determine the figure size and style"
   ]
  },
  {
   "cell_type": "code",
   "execution_count": null,
   "metadata": {},
   "outputs": [],
   "source": [
    "plt.figure(figsize=(8,6))\n",
    "sns.set_style('darkgrid')"
   ]
  },
  {
   "cell_type": "markdown",
   "metadata": {},
   "source": [
    "With seaborn build, scatter plots with overlaid regression lines. The size of the scatter and color of the scatter and line are also prescribed.\n",
    "The plot is build with two quantitaive variables for 3 sets (Price, Bedroom), (Price, Livingarea) and (Price, Surfaceoftheplot)."
   ]
  },
  {
   "cell_type": "code",
   "execution_count": null,
   "metadata": {},
   "outputs": [],
   "source": [
    "sns.lmplot(x=\"Price\", y=\"Bedrooms\", data=df, scatter_kws={\"s\": 15, \"color\": \"green\"}, line_kws={\"color\": \"red\"})\n",
    "sns.lmplot(x=\"Price\", y=\"Livingarea\", data=df, scatter_kws={\"s\": 15, \"color\": \"green\"}, line_kws={\"color\": \"red\"})\n",
    "sns.lmplot(x=\"Price\", y=\"Surfaceoftheplot\", data=df, scatter_kws={\"s\": 15, \"color\": \"green\"}, line_kws={\"color\": \"red\"})"
   ]
  },
  {
   "cell_type": "markdown",
   "metadata": {},
   "source": [
    "Scatter plots with overlaid regression lines is created between Price and each type of building for understanding the price for different categories(types) of buildings. With this decision may be taken for each type. "
   ]
  },
  {
   "cell_type": "code",
   "execution_count": null,
   "metadata": {},
   "outputs": [],
   "source": [
    "sns.lmplot(x=\"Price\", y=\"Bedrooms\", data=df, hue=\"Type\", palette={\"House\": \"red\", \"Villa\":\"orange\", \"Apartment\": \"yellow\", \"Manor-house\": \"blue\", \"Country-cottage\": \"purple\", \"Flat-studio\":\"black\", \"New-real-estate-project-houses\":\"brown\", \"Castle\":\"violet\"}, scatter_kws={\"s\": 15, \"color\": \"green\"})"
   ]
  },
  {
   "cell_type": "markdown",
   "metadata": {},
   "source": [
    "Age of the building is calculated from the construction year"
   ]
  },
  {
   "cell_type": "code",
   "execution_count": null,
   "metadata": {},
   "outputs": [],
   "source": [
    "df['Age_of_building'] = 2024 - df['Constructionyear']"
   ]
  },
  {
   "cell_type": "markdown",
   "metadata": {},
   "source": [
    "The quantitaive data Age_of_building in years was transformed into categorical data with 5 categories.\n",
    "The buildings which are 0-24 years old, 25-49 years old, 50-74 years old, 75-99 years old, and older than more than 100 years."
   ]
  },
  {
   "cell_type": "code",
   "execution_count": null,
   "metadata": {},
   "outputs": [],
   "source": [
    "bins = [0,25,50,75,100,125]\n",
    "old_label = ['0-24','25-49', '50-74', '75-99', '100+']\n",
    "\n",
    "df['Building_age_category'] = pd.cut(df['Age_of_building'], bins=bins,labels=old_label, right=False )"
   ]
  },
  {
   "cell_type": "markdown",
   "metadata": {},
   "source": [
    "Cross tabulation was created to express how many buildings (frequency/count) from a particular age category has a specific energy class(from the defined category-A++, A+, A, B, C, D, E, F, G )"
   ]
  },
  {
   "cell_type": "code",
   "execution_count": null,
   "metadata": {},
   "outputs": [],
   "source": [
    "cross_tab = pd.crosstab(index=df['Building_age_category'], columns=[df['Energyclass']])\n",
    "print(cross_tab)"
   ]
  },
  {
   "cell_type": "markdown",
   "metadata": {},
   "source": [
    "A histogram was created for Building_age_category and Energyclass"
   ]
  },
  {
   "cell_type": "code",
   "execution_count": null,
   "metadata": {},
   "outputs": [],
   "source": [
    "sns.countplot(x=\"Building_age_category\",  hue=\"Energyclass\", data=df, palette={\"Not specified\": \"yellow\", \"A++\": \"red\", \"A+\":\"orange\", \"A\": \"green\", \"B\": \"blue\", \"C\": \"purple\", \"D\":\"black\", \"E\":\"brown\", \"F\":\"violet\", \"G\":\"Pink\"})"
   ]
  }
 ],
 "metadata": {
  "kernelspec": {
   "display_name": "Python 3",
   "language": "python",
   "name": "python3"
  },
  "language_info": {
   "name": "python",
   "version": "3.11.8"
  }
 },
 "nbformat": 4,
 "nbformat_minor": 2
}
